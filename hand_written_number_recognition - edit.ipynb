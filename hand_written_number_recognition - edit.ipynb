{
 "cells": [
  {
   "cell_type": "code",
   "execution_count": 2,
   "metadata": {},
   "outputs": [],
   "source": [
    "import numpy as np\n",
    "import matplotlib.pyplot as plt\n",
    "import tensorflow as tf\n",
    "import tensorflow_datasets as tfds"
   ]
  },
  {
   "cell_type": "code",
   "execution_count": 3,
   "metadata": {},
   "outputs": [],
   "source": [
    "# Construct a tf.data.Dataset\n",
    "\n",
    "ds = tfds.load('mnist', split='train')\n",
    "# Data taken from MNIST dataset.\n",
    "\n",
    "batch_size = 10\n",
    "ds = ds.batch(batch_size).prefetch(tf.data.experimental.AUTOTUNE) # do .shuffle(buffer_size) to randomize batch set\n",
    "# Divides ds into batches of size batch_size\n",
    "\n",
    "# -- Note --\n",
    "# * All the data provided was used for training data,\n",
    "#   even though normally one would split the training data\n",
    "#   and the testing data and assess the Neural Network performance\n",
    "#   respcetively."
   ]
  },
  {
   "cell_type": "code",
   "execution_count": 655,
   "metadata": {},
   "outputs": [],
   "source": [
    "# Initialising the network\n",
    "\n",
    "num_first_layer = 100\n",
    "layer_1_weights = tf.Variable(tf.random.normal([num_first_layer, 784]), dtype = 'float32')\n",
    "layer_1_bias = tf.Variable(tf.random.normal([num_first_layer]), dtype = 'float32')\n",
    "output_layer_weights = tf.Variable(tf.random.normal([10, num_first_layer]), dtype = 'float32')\n",
    "output_layer_bias = tf.Variable(tf.random.normal([10]), dtype = 'float32')\n",
    "\n",
    "# --- Neural Network ---\n",
    "# * 784 input neurons, since image is 28 x 28\n",
    "# * First Layer consists of 100 Neurons\n",
    "# * Output Layer consists of 10 Neurons"
   ]
  },
  {
   "cell_type": "code",
   "execution_count": 674,
   "metadata": {
    "scrolled": true
   },
   "outputs": [
    {
     "name": "stdout",
     "output_type": "stream",
     "text": [
      "cycle :  1\n",
      "correct :  0.7335666666666667\n",
      "cycle :  2\n",
      "correct :  0.7418\n",
      "cycle :  3\n",
      "correct :  0.7470666666666667\n",
      "cycle :  4\n",
      "correct :  0.7515333333333334\n",
      "cycle :  5\n",
      "correct :  0.7562\n",
      "cycle :  6\n",
      "correct :  0.8168333333333333\n",
      "cycle :  7\n",
      "correct :  0.8337666666666667\n",
      "cycle :  8\n",
      "correct :  0.8398666666666667\n",
      "cycle :  9\n",
      "correct :  0.84345\n",
      "cycle :  10\n",
      "correct :  0.8471166666666666\n",
      "cycle :  11\n",
      "correct :  0.8649333333333333\n",
      "cycle :  12\n",
      "correct :  0.9247\n",
      "cycle :  13\n",
      "correct :  0.9310166666666667\n",
      "cycle :  14\n",
      "correct :  0.93455\n",
      "cycle :  15\n",
      "correct :  0.9376833333333333\n",
      "cycle :  16\n",
      "correct :  0.94015\n",
      "cycle :  17\n",
      "correct :  0.9415333333333333\n",
      "cycle :  18\n",
      "correct :  0.94375\n",
      "cycle :  19\n",
      "correct :  0.9451833333333334\n",
      "cycle :  20\n",
      "correct :  0.94675\n",
      "cycle :  21\n",
      "correct :  0.948\n",
      "cycle :  22\n",
      "correct :  0.9497\n",
      "cycle :  23\n",
      "correct :  0.9508166666666666\n",
      "cycle :  24\n",
      "correct :  0.9521\n",
      "cycle :  25\n",
      "correct :  0.9528666666666666\n",
      "cycle :  26\n",
      "correct :  0.9540166666666666\n",
      "cycle :  27\n",
      "correct :  0.9547333333333333\n",
      "cycle :  28\n",
      "correct :  0.9556166666666667\n",
      "cycle :  29\n",
      "correct :  0.95675\n",
      "cycle :  30\n",
      "correct :  0.957\n"
     ]
    }
   ],
   "source": [
    "# Training the Neural Network\n",
    "\n",
    "learning_rate = 0.1\n",
    "cycles = 30\n",
    "\n",
    "for j in range(cycles):\n",
    "    \n",
    "    for batch in ds:\n",
    "        with tf.GradientTape(persistent = True) as g:\n",
    "            error_func_over_examples = tf.constant(0, dtype = 'float32')\n",
    "            for i1 in range(batch['image'].shape[0]):\n",
    "\n",
    "                    g.watch(layer_1_weights)\n",
    "                    g.watch(layer_1_bias)\n",
    "                    g.watch(output_layer_weights)\n",
    "                    g.watch(output_layer_bias)\n",
    "\n",
    "                    test_image = tf.reshape(tf.image.convert_image_dtype(batch['image'][i1], dtype = 'float32'), 784)\n",
    "\n",
    "                    network_1 = tf.math.sigmoid(tf.tensordot(layer_1_weights,  test_image , axes = 1) + layer_1_bias)\n",
    "                    network_2 = tf.math.sigmoid(tf.tensordot(output_layer_weights, network_1, axes = 1) + output_layer_bias)\n",
    "\n",
    "                    test_label = [0 if k != batch['label'][i1] else 1 for k in range(10)]\n",
    "                    test_label = tf.constant(test_label, dtype = 'float32')\n",
    "                    error_func = tf.reduce_sum((test_label - network_2) ** 2) # This is the distance from the actual answer\n",
    "                    error_func_over_examples += (error_func / 10) # Every iteratio we add over the examples\n",
    "                    \n",
    "\n",
    "        layer_1_weights.assign_add(- g.gradient(error_func_over_examples, layer_1_weights) * learning_rate)\n",
    "        layer_1_bias.assign_add(- g.gradient(error_func_over_examples, layer_1_bias) * learning_rate)\n",
    "        output_layer_weights.assign_add(-g.gradient(error_func_over_examples, output_layer_weights) * learning_rate)\n",
    "        output_layer_bias.assign_add(-g.gradient(error_func_over_examples, output_layer_bias) * learning_rate)\n",
    "        \n",
    "        \n",
    "        \n",
    "    correct_count = 0\n",
    "    for batch in ds:\n",
    "        for i1 in range(batch['image'].shape[0]):\n",
    "            test_image = tf.reshape(tf.image.convert_image_dtype(batch['image'][i1], dtype = 'float32'), 784)\n",
    "            network_1 = tf.math.sigmoid(tf.tensordot(layer_1_weights,  test_image , axes = 1) + layer_1_bias)\n",
    "            network_2 = tf.math.sigmoid(tf.tensordot(output_layer_weights, network_1, axes = 1) + output_layer_bias)\n",
    "            if tf.argmax(network_2).numpy() == batch['label'][i1].numpy():\n",
    "                correct_count += 1\n",
    "    print('cycle : ', j + 1)\n",
    "    print('correct : ', correct_count / 60000)\n"
   ]
  },
  {
   "cell_type": "code",
   "execution_count": 4,
   "metadata": {},
   "outputs": [],
   "source": [
    "# Load weights and biases from npy file\n",
    "\n",
    "layer_1_weights = np.load('layer_1_weights.npy')\n",
    "layer_1_bias = np.load('layer_1_bias.npy')\n",
    "output_layer_weights = np.load('output_layer_weights.npy')\n",
    "output_layer_bias = np.load('output_layer_bias.npy')"
   ]
  },
  {
   "cell_type": "code",
   "execution_count": 5,
   "metadata": {
    "scrolled": true
   },
   "outputs": [
    {
     "name": "stdout",
     "output_type": "stream",
     "text": [
      "I think the number is :  1\n",
      "What the number actually is :  1\n"
     ]
    },
    {
     "data": {
      "image/png": "[encoded data removed]",
      "text/plain": [
       "<Figure size 432x288 with 1 Axes>"
      ]
     },
     "metadata": {
      "needs_background": "light"
     },
     "output_type": "display_data"
    }
   ],
   "source": [
    "# See accuracy of individual digits.\n",
    "\n",
    "correct_count = 0\n",
    "batch_counter = 0\n",
    "for batch in ds:\n",
    "    batch_counter += 1\n",
    "    if batch_counter == 1:\n",
    "        i1 = 1\n",
    "        test_image = tf.reshape(np.ceil(tf.image.convert_image_dtype(batch['image'][i1], dtype = 'float32')), 784)\n",
    "        network_1 = tf.math.sigmoid(tf.tensordot(layer_1_weights,  test_image , axes = 1) + layer_1_bias)\n",
    "        network_2 = tf.math.sigmoid(tf.tensordot(output_layer_weights, network_1, axes = 1) + output_layer_bias)\n",
    "        print('I think the number is : ', tf.argmax(network_2).numpy())\n",
    "        print('What the number actually is : ', batch['label'][i1].numpy())\n",
    "        plt.imshow(tf.reshape(test_image, (28, 28)), cmap = 'gray')\n",
    "        \n",
    "# Note that above I have changed the image, such that the gray scale value is only either zero or one.\n",
    "# Which is not what the neural network was trained on."
   ]
  },
  {
   "cell_type": "code",
   "execution_count": 26,
   "metadata": {},
   "outputs": [
    {
     "name": "stdout",
     "output_type": "stream",
     "text": [
      "0.9227666666666666\n"
     ]
    }
   ],
   "source": [
    "# See accuracy with regards to all the data.\n",
    "\n",
    "correct_count = 0\n",
    "batch_counter = 0\n",
    "for batch in ds:    \n",
    "    batch_counter += 1\n",
    "    for i1 in range(batch['image'].shape[0]):\n",
    "        test_image = tf.reshape(np.ceil(tf.image.convert_image_dtype(batch['image'][i1], dtype = 'float32')), 784)\n",
    "#         print(test_image)\n",
    "        network_1 = tf.math.sigmoid(tf.tensordot(layer_1_weights,  test_image , axes = 1) + layer_1_bias)\n",
    "        network_2 = tf.math.sigmoid(tf.tensordot(output_layer_weights, network_1, axes = 1) + output_layer_bias)\n",
    "        if tf.argmax(network_2.numpy()) == batch['label'][i1].numpy():\n",
    "            correct_count += 1\n",
    "print(correct_count / 60000)\n",
    "\n",
    "# Note that above I have changed the image, such that the gray scale value is only either zero or one.\n",
    "# Which is not what the neural network was trained on."
   ]
  },
  {
   "cell_type": "code",
   "execution_count": 837,
   "metadata": {
    "scrolled": true
   },
   "outputs": [],
   "source": [
    "# Save weights and biases.\n",
    "\n",
    "np.save('layer_1_weights.npy',layer_1_weights.numpy())\n",
    "np.save('layer_1_bias.npy', layer_1_bias.numpy())\n",
    "np.save('output_layer_weights.npy', output_layer_weights.numpy())\n",
    "np.save('output_layer_bias.npy', output_layer_bias.numpy())"
   ]
  }
 ],
 "metadata": {
  "kernelspec": {
   "display_name": "Python 3.7.4 64-bit ('base': conda)",
   "language": "python",
   "name": "python37464bitbasecondaf34a0cb157064adcb10e0debffd47a7c"
  },
  "language_info": {
   "codemirror_mode": {
    "name": "ipython",
    "version": 3
   },
   "file_extension": ".py",
   "mimetype": "text/x-python",
   "name": "python",
   "nbconvert_exporter": "python",
   "pygments_lexer": "ipython3",
   "version": "3.7.4"
  }
 },
 "nbformat": 4,
 "nbformat_minor": 4
}
